{
 "cells": [
  {
   "cell_type": "markdown",
   "id": "953d9378",
   "metadata": {},
   "source": [
    "## Tasca 4: Pràctica amb programació numèrica - Eduardo Baffi"
   ]
  },
  {
   "cell_type": "markdown",
   "id": "d2a442d5",
   "metadata": {},
   "source": [
    "#### Nivell 1"
   ]
  },
  {
   "cell_type": "code",
   "execution_count": 58,
   "id": "4df5c438",
   "metadata": {},
   "outputs": [
    {
     "name": "stdout",
     "output_type": "stream",
     "text": [
      "Ejemplo de array de una dimensión:\n",
      "[3.02405277 8.11187553 0.43610907 8.32051689 1.09376817 5.61418702\n",
      " 8.5508335  7.81572098 8.74889687 8.7588873 ]\n",
      "\n",
      "Resumen estadístico básico de los datos:\n",
      "DescribeResult(nobs=10, minmax=(0.43610907367890306, 8.758887304585745), mean=6.047484809426235, variance=10.980762534966367, skewness=-0.7871857774707207, kurtosis=-1.0766924063296621)\n",
      "\n",
      "Ejemplo de array de más de una dimensión:\n",
      "[[4.5602249  7.00545385]\n",
      " [8.14811287 1.10105792]]\n",
      "Error! Array tiene más de una dimensió. Comproba tus datos y intenta de nuevo.\n",
      "\n",
      "SOLUCIÓN ALTERNATIVA DEL EJERCICIO 1\n",
      "Ejemplo de array de una dimensión:\n",
      "[3.924317   6.68538208 5.30882198 3.38052113 1.97103584 3.21067726\n",
      " 0.81261051 5.71272102 7.22178585 7.89796908]\n",
      "\n",
      "Resumen estadístico básico de los datos:\n",
      "Mean: 4.612584175813752\n",
      "Average: 4.612584175813752\n",
      "Median: 4.616569492167926\n",
      "Mode: 3.924317003865032\n",
      "Standard Deviation: 2.212867781287788\n",
      "Variance: 4.896783817461538\n",
      "Covariance: 5.440870908290597\n",
      "Minimum: 0.8126105074778611\n",
      "Maximum: 7.897969075642983\n",
      "Range of values: 7.085358568165122\n",
      "\n",
      "Ejemplo de array de más de una dimensión:\n",
      "[[5.2550656  5.30771848]\n",
      " [1.73992363 8.42443411]]\n",
      "Error! Array tiene más de una dimensió. Comproba tus datos y intenta de nuevo.\n"
     ]
    }
   ],
   "source": [
    "# - Exercici 1\n",
    "# Crea una funció que donat un Array d’una dimensió, et faci un resum estadístic bàsic de les dades. \n",
    "# Si detecta que l’array té més d’una dimensió, ha de mostrar un missatge d’error.\n",
    "\n",
    "import numpy as np\n",
    "import scipy.stats\n",
    "\n",
    "def basic_statistics(array):\n",
    "    if array.ndim > 1:\n",
    "        print(\"Error! Array tiene más de una dimensió. Comproba tus datos y intenta de nuevo.\")\n",
    "    else:\n",
    "        print(scipy.stats.describe(array))\n",
    "    \n",
    "yourarray = np.random.rand(10)*10\n",
    "print(\"Ejemplo de array de una dimensión:\")\n",
    "print(yourarray)\n",
    "print()\n",
    "print(\"Resumen estadístico básico de los datos:\")\n",
    "basic_statistics(yourarray)\n",
    "print()\n",
    "\n",
    "yourarray2 = np.random.rand(2,2)*10\n",
    "print(\"Ejemplo de array de más de una dimensión:\")\n",
    "print(yourarray2)\n",
    "\n",
    "basic_statistics(yourarray2)\n",
    "\n",
    "\n",
    "\n",
    "############\n",
    "# Exercici 1 - Solución alternativa solamente con numpy\n",
    "import statistics \n",
    "\n",
    "def basic_statistics_2(array):\n",
    "    if array.ndim > 1:\n",
    "        print(\"Error! Array tiene más de una dimensió. Comproba tus datos y intenta de nuevo.\")\n",
    "    else:\n",
    "        print(\"Mean: \" + str(np.mean(array)))               #Datos estadísticos\n",
    "        print(\"Average: \" + str(np.average(array)))\n",
    "        print(\"Median: \" + str(np.median(array)))\n",
    "        print(\"Mode: \" + str(statistics.mode(array)))\n",
    "        print(\"Standard Deviation: \" + str(np.std(array)))\n",
    "        print(\"Variance: \" + str(np.var(array)))\n",
    "        print(\"Covariance: \" + str(np.cov(array)))\n",
    "        print(\"Minimum: \" + str(np.amin(array)))\n",
    "        print(\"Maximum: \" + str(np.amax(array)))\n",
    "        print(\"Range of values: \" + str(np.ptp(array)))\n",
    "\n",
    "print()\n",
    "print(\"SOLUCIÓN ALTERNATIVA DEL EJERCICIO 1\")    \n",
    "yourarray = np.random.rand(10)*10\n",
    "print(\"Ejemplo de array de una dimensión:\")\n",
    "print(yourarray)\n",
    "print()\n",
    "print(\"Resumen estadístico básico de los datos:\")\n",
    "basic_statistics_2(yourarray)\n",
    "print()\n",
    "\n",
    "yourarray2 = np.random.rand(2,2)*10\n",
    "print(\"Ejemplo de array de más de una dimensión:\")\n",
    "print(yourarray2)\n",
    "\n",
    "basic_statistics_2(yourarray2)\n"
   ]
  },
  {
   "cell_type": "code",
   "execution_count": 66,
   "id": "ab5f3bea",
   "metadata": {},
   "outputs": [
    {
     "name": "stdout",
     "output_type": "stream",
     "text": [
      "Cuadrado de números enteros aleatórios entre 0 y 100\n",
      "Introduzca el número de elementos del cuadrado (N de una matriz NxN): 6\n",
      "[[32 10 24 94  5 11]\n",
      " [99 65 50 99 75 35]\n",
      " [89 50 87 31 19 81]\n",
      " [41 84 31 16 72 63]\n",
      " [13 72 80 54 88 59]\n",
      " [82 66 76 93 69 95]]\n",
      "\n",
      "Cuadrado de números float aleatórios entre 0 y 10\n",
      "Introduzca el número de elementos del cuadrado (N de una matriz NxN): 4\n",
      "[[3.88 2.86 8.23 6.05]\n",
      " [8.74 2.53 8.63 9.82]\n",
      " [3.31 5.19 0.39 2.01]\n",
      " [3.16 3.53 5.64 1.64]]\n"
     ]
    }
   ],
   "source": [
    "# - Exercici 2\n",
    "# Crea una funció que et generi un quadrat NxN de nombres aleatoris entre el 0 i el 100.\n",
    "\n",
    "import numpy as np\n",
    "\n",
    "\n",
    "print(\"Cuadrado de números enteros aleatórios entre 0 y 100\")\n",
    "def square():\n",
    "    N = int(input(\"Introduzca el número de elementos del cuadrado (N de una matriz NxN): \"))\n",
    "    randomArray = np.random.randint(0, 100, size=(N,N))\n",
    "    print(np.around(randomArray,2))\n",
    "\n",
    "square()\n",
    "\n",
    "#####\n",
    "# Solución para números float aleatórios entre 0 y 10\n",
    "\n",
    "print()\n",
    "print(\"Cuadrado de números float aleatórios entre 0 y 10\")\n",
    "def square_aleatory():\n",
    "    num = int(input(\"Introduzca el número de elementos del cuadrado (N de una matriz NxN): \"))\n",
    "    randomArray = np.random.rand(num,num)*10\n",
    "    print(np.around(randomArray,2))\n",
    "\n",
    "square_aleatory()\n",
    "\n",
    "\n"
   ]
  },
  {
   "cell_type": "code",
   "execution_count": 71,
   "id": "a1598beb",
   "metadata": {},
   "outputs": [
    {
     "name": "stdout",
     "output_type": "stream",
     "text": [
      "Tabla 2-D\n",
      "[[ 4 72 32  9 92 48 61]\n",
      " [ 9 52 28 50 68 43 78]\n",
      " [81 51 71 35 79 59 86]\n",
      " [63 49 64 15 17 61 34]\n",
      " [71 74 97 22 35 82 78]\n",
      " [15 18 19 94 15 63  3]]\n",
      "\n",
      "Total por fila:\n",
      "[318 328 462 303 459 227]\n",
      "\n",
      "Total por columna: \n",
      "[243 316 311 225 306 356 340]\n"
     ]
    }
   ],
   "source": [
    "# - Exercici 3\n",
    "# Crea una funció que donada una taula de dues dimensions, et calculi els totals per fila i els totals per columna.\n",
    "\n",
    "import numpy as np\n",
    "\n",
    "print(\"Tabla 2-D\")\n",
    "\n",
    "def table_2D(array):\n",
    "    print(\"Total por fila:\")\n",
    "    print(array.sum(axis=1))\n",
    "    print()\n",
    "    print(\"Total por columna: \")\n",
    "    print(array.sum(axis=0))\n",
    "\n",
    "#testArray = np.array([[1, 2, 3], [4, 5, 6]])     # Tabla fija para testear el programa\n",
    "\n",
    "testArray = np.random.randint(100, size=(6,7))\n",
    "print(testArray)\n",
    "print()\n",
    "table_2D(testArray)"
   ]
  },
  {
   "cell_type": "code",
   "execution_count": 114,
   "id": "2bc39384",
   "metadata": {},
   "outputs": [
    {
     "name": "stdout",
     "output_type": "stream",
     "text": [
      "EJERCICIO CORRELACIÓN\n",
      "Array X: [5 9 7 1 2 1 9 0 1 9]\n",
      "Array Y: [0 2 5 0 4 1 4 9 0 8]\n",
      "Coeficiente de Correlación: 0.21926957833558436\n",
      "Resultado de la funcion própria del Python: 0.21926957833558436\n"
     ]
    }
   ],
   "source": [
    "# - Exercici 4\n",
    "# Implementa manualment una funció que calculi el coeficient de correlació. \n",
    "# Informa’t-en sobre els seus usos i interpretació.\n",
    "\n",
    "import numpy as np\n",
    "\n",
    "print(\"EJERCICIO CORRELACIÓN\")\n",
    "\n",
    "def corr_coef(X, Y):\n",
    "    r = (np.cov(X,Y)[0, 1])/(np.std(X,ddof=1)*np.std(Y,ddof=1))  #El elemento [0, 1] es el valor relevante para el cálculo \n",
    "    print(\"Coeficiente de Correlación: \" + str(r))               #Es necesario usar ddof=1 en np.std porque retorna a estimativa imparcial\n",
    "                                                                        #Con ddof= 0 (default) el resultado no es el mismo que en np.corrcoef \n",
    "    \n",
    "X = np.random.randint(10, size=10)\n",
    "Y = np.random.randint(10, size=10)\n",
    "\n",
    "print(\"Array X: \" + str(X))\n",
    "print(\"Array Y: \" + str(Y))\n",
    "                             \n",
    "corr_coef(X,Y)\n",
    "\n",
    "print(\"Resultado de la funcion própria del Python: \" + str(np.corrcoef(X,Y)[0, 1]))  # Cálculo realizado para confirmar el resultado de la funcion creada\n",
    "\n",
    "# Resultado de la función es la medida de la correlación lineal entre dos conjuntos de datos\n",
    "# Varia en el intervalo [-1, 1]. \n",
    "# r=1, correlación positiva perfecta / 0 < r < 1, correlación positiva/ r=0, no hay relación lineal\n",
    "# -1 < r < 0, correlación negativa / r = -1, relación inversa\n",
    "# Puede ser usada para verificar si hay relación entre dos variables observables y estimar la intensidad de su relación.\n"
   ]
  }
 ],
 "metadata": {
  "kernelspec": {
   "display_name": "Python 3",
   "language": "python",
   "name": "python3"
  },
  "language_info": {
   "codemirror_mode": {
    "name": "ipython",
    "version": 3
   },
   "file_extension": ".py",
   "mimetype": "text/x-python",
   "name": "python",
   "nbconvert_exporter": "python",
   "pygments_lexer": "ipython3",
   "version": "3.8.5"
  },
  "latex_envs": {
   "LaTeX_envs_menu_present": true,
   "autoclose": false,
   "autocomplete": true,
   "bibliofile": "biblio.bib",
   "cite_by": "apalike",
   "current_citInitial": 1,
   "eqLabelWithNumbers": true,
   "eqNumInitial": 1,
   "hotkeys": {
    "equation": "Ctrl-E",
    "itemize": "Ctrl-I"
   },
   "labels_anchors": false,
   "latex_user_defs": false,
   "report_style_numbering": false,
   "user_envs_cfg": false
  }
 },
 "nbformat": 4,
 "nbformat_minor": 5
}
